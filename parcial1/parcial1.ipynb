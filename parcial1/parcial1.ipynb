{
 "cells": [
  {
   "attachments": {},
   "cell_type": "markdown",
   "metadata": {},
   "source": [
    "Ejercicio 6"
   ]
  },
  {
   "cell_type": "code",
   "execution_count": 5,
   "metadata": {},
   "outputs": [],
   "source": [
    "import numpy as np\n",
    "import sympy as sym\n",
    "import matplotlib.pyplot as plt"
   ]
  },
  {
   "attachments": {},
   "cell_type": "markdown",
   "metadata": {},
   "source": [
    "Punto a"
   ]
  },
  {
   "attachments": {},
   "cell_type": "markdown",
   "metadata": {},
   "source": [
    "La luz viaja del punto T=(-3,2) al punto (x,0) a una velocidad de c/n0. Luego viaja del punto R=(x,0) al punto (2,-2) a una velocida de c/n1. Ambas trayectorias son lineas rectas.Según la ecuación de movimiento a velocidad constante se tiene:\n",
    "$$v=\\frac{r}{t}$$\n",
    "Despejando t se tiene:\n",
    "$$t=\\frac{r}{v}$$\n",
    "En el primer tramo (antes de la refracción), la distancia recorrida es:\n",
    "$$r=\\sqrt{(x-T_x)^2+(0-T_y)^2}$$\n",
    "Y la velocidad es:\n",
    "$$v=\\frac{c}{n_0}$$\n",
    "Al reemplazar en la ecuación del tiempo nos queda:\n",
    "$$t=\\frac{\\sqrt{(x-T_x)^2+(0-T_y)^2}}{\\frac{c}{n_0}}$$\n",
    "Después de simplificar utilizando las siguientes identidades:\n",
    "$$0-x=-x\\\\\n",
    "(-x)^2=x^2\\\\\n",
    "\\frac{x}{(\\frac{y}{z})}=\\frac{xz}{y}$$\n",
    "Queda:\n",
    "$$t=\\frac{n_0\\sqrt{(x-T_x)^2+T_y^2}}{c}$$\n",
    "Ahora, en el segundo tramo (después de la refracción), la distancia recorrida es:\n",
    "$$r=\\sqrt{(R_x-x)^2+(R_y-0)^2}$$\n",
    "Y la velocidad es:\n",
    "$$v=\\frac{c}{n_1}$$\n",
    "Al reemplazar en la ecuación del tiempo nos queda:\n",
    "$$t=\\frac{\\sqrt{(R_x-x)^2+(R_y-0)^2}}{\\frac{c}{n_1}}$$\n",
    "Después de simplificar utilizando las siguientes identidades:\n",
    "$$x-0=x\\\\\n",
    "(y-x)^2=(x-y)^2\\\\\n",
    "\\frac{x}{(\\frac{y}{z})}=\\frac{xz}{y}$$\n",
    "Queda:\n",
    "$$t=\\frac{n_1\\sqrt{(x-R_x)^2+R_y^2}}{c}$$\n",
    "El tiempo total, que es la suma de ambos tiempos es:\n",
    "$$t=\\frac{n_0\\sqrt{(x-T_x)^2+T_y^2}}{c}+\\frac{n_1\\sqrt{(x-R_x)^2+R_y^2}}{c}$$\n",
    "Y simplificando, se puede obtener:\n",
    "$$ct=n_0\\sqrt{(x-T_x)^2+T_y^2}+n_1\\sqrt{(x-R_x)^2+R_y^2}$$"
   ]
  },
  {
   "attachments": {},
   "cell_type": "markdown",
   "metadata": {},
   "source": [
    "Punto b"
   ]
  },
  {
   "cell_type": "code",
   "execution_count": 7,
   "metadata": {},
   "outputs": [
    {
     "data": {
      "image/png": "[encoded data removed]",
      "text/plain": [
       "<Figure size 640x480 with 1 Axes>"
      ]
     },
     "metadata": {},
     "output_type": "display_data"
    }
   ],
   "source": [
    "n0=1\n",
    "n1=1.33\n",
    "t0=-3\n",
    "t1=2\n",
    "r0=2\n",
    "r1=-2\n",
    "x=sym.Symbol(\"x\",real=True)\n",
    "f=n0*sym.sqrt((x-t0)**2+t1**2)+n1*sym.sqrt((x-r0)**2+r1**2)\n",
    "x0=np.arange(-3,2,0.001)\n",
    "y0=sym.lambdify([x],f,np)(x0)\n",
    "plt.plot(x0,y0)\n",
    "plt.show()"
   ]
  },
  {
   "attachments": {},
   "cell_type": "markdown",
   "metadata": {},
   "source": [
    "Se minimiza el tiempo de vaje aproximadamente en 0.3"
   ]
  },
  {
   "attachments": {},
   "cell_type": "markdown",
   "metadata": {},
   "source": [
    "Punto c"
   ]
  },
  {
   "cell_type": "code",
   "execution_count": 16,
   "metadata": {},
   "outputs": [
    {
     "name": "stdout",
     "output_type": "stream",
     "text": [
      "0.31690575724756526\n"
     ]
    }
   ],
   "source": [
    "func=sym.lambdify([x],f)\n",
    "def derivada(point,h):\n",
    "    return (func(point+h)-func(point-h))/(2*h)\n",
    "def derivada2(point,h):\n",
    "    return (func(point+h)-2*func(point)+func(point-h))/(h**2)\n",
    "def newtonraphson(point,h):\n",
    "    err=1\n",
    "    while np.abs(err)>h:\n",
    "        err=derivada(point,0.00001)/derivada2(point,0.00001)\n",
    "        point-=err\n",
    "    return point\n",
    "minimo=newtonraphson(0.3,0.000001)\n",
    "print(minimo)"
   ]
  },
  {
   "attachments": {},
   "cell_type": "markdown",
   "metadata": {},
   "source": [
    "Punto d"
   ]
  },
  {
   "cell_type": "code",
   "execution_count": 21,
   "metadata": {},
   "outputs": [
    {
     "name": "stdout",
     "output_type": "stream",
     "text": [
      "a0= -1.0281946844703502\n",
      "a1= -0.6995662172057631\n"
     ]
    }
   ],
   "source": [
    "a1=np.arctan((minimo-t0)/(0-t1))\n",
    "a2=np.arctan((r0-minimo)/(r1-0))\n",
    "print(\"a0=\",a1)\n",
    "print(\"a1=\",a2)"
   ]
  },
  {
   "attachments": {},
   "cell_type": "markdown",
   "metadata": {},
   "source": [
    "Punto e"
   ]
  },
  {
   "cell_type": "code",
   "execution_count": 22,
   "metadata": {},
   "outputs": [
    {
     "name": "stdout",
     "output_type": "stream",
     "text": [
      "n0/n1= 0.7518796992481203\n",
      "sin(a1)/sin(a0)= 0.7518796992237109\n"
     ]
    }
   ],
   "source": [
    "print(\"n0/n1=\",1/1.33)\n",
    "print(\"sin(a1)/sin(a0)=\",np.sin(a2)/np.sin(a1))"
   ]
  },
  {
   "attachments": {},
   "cell_type": "markdown",
   "metadata": {},
   "source": [
    "Sí se cumplió"
   ]
  }
 ],
 "metadata": {
  "kernelspec": {
   "display_name": ".venv",
   "language": "python",
   "name": "python3"
  },
  "language_info": {
   "codemirror_mode": {
    "name": "ipython",
    "version": 3
   },
   "file_extension": ".py",
   "mimetype": "text/x-python",
   "name": "python",
   "nbconvert_exporter": "python",
   "pygments_lexer": "ipython3",
   "version": "3.11.1"
  },
  "orig_nbformat": 4,
  "vscode": {
   "interpreter": {
    "hash": "8bc47ddef19f623ba055a5ce674a222ea1d506c5b30789051e12baa0e49779c3"
   }
  }
 },
 "nbformat": 4,
 "nbformat_minor": 2
}
