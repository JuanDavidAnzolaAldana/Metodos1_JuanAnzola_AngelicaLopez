{
 "cells": [
  {
   "cell_type": "code",
   "execution_count": 2,
   "id": "14824009",
   "metadata": {},
   "outputs": [
    {
     "name": "stdout",
     "output_type": "stream",
     "text": [
      "1\n",
      "1\n",
      "2\n",
      "6\n",
      "24\n",
      "120\n",
      "720\n",
      "5040\n",
      "40320\n",
      "362880\n",
      "3628800\n",
      "39916800\n",
      "479001600\n",
      "6227020800\n",
      "87178291200\n",
      "1307674368000\n",
      "20922789888000\n",
      "355687428096000\n",
      "6402373705728000\n",
      "121645100408832000\n",
      "2432902008176640000\n"
     ]
    }
   ],
   "source": [
    "import numpy as np\n",
    "import matplotlib as plt\n",
    "\n",
    "#Punto 2.01.1: Números Factoriales\n",
    "def nfactorial(n:int)->float:    \n",
    "  \n",
    "    if n == 1 or n == 0:\n",
    "        nf = 1\n",
    "        \n",
    "    if n > 1:\n",
    "        f = 1\n",
    "        i = 1\n",
    "        while i in range(1,n+1):\n",
    "            f = i*f\n",
    "            i += 1\n",
    "            nf = f\n",
    "    return(nf)\n",
    "    \n",
    "\n",
    "for j in range(0,21):\n",
    "    fact= nfactorial(j) \n",
    "    print(fact)"
   ]
  },
  {
   "cell_type": "code",
   "execution_count": null,
   "id": "44050200",
   "metadata": {},
   "outputs": [],
   "source": []
  }
 ],
 "metadata": {
  "kernelspec": {
   "display_name": "Python 3 (ipykernel)",
   "language": "python",
   "name": "python3"
  },
  "language_info": {
   "codemirror_mode": {
    "name": "ipython",
    "version": 3
   },
   "file_extension": ".py",
   "mimetype": "text/x-python",
   "name": "python",
   "nbconvert_exporter": "python",
   "pygments_lexer": "ipython3",
   "version": "3.9.13"
  }
 },
 "nbformat": 4,
 "nbformat_minor": 5
}
