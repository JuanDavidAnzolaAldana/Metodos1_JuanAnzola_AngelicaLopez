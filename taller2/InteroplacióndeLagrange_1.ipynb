{
  "nbformat": 4,
  "nbformat_minor": 0,
  "metadata": {
    "colab": {
      "provenance": []
    },
    "kernelspec": {
      "name": "python3",
      "display_name": "Python 3"
    },
    "language_info": {
      "name": "python"
    }
  },
  "cells": [
    {
      "cell_type": "markdown",
      "source": [
        "Interpolación de Lagrange: Punto 1\n",
        "\n",
        "Para probar que el polinomio interpolador (de grado n para n+1 escalares con n nodos) es único, suponemos primero que existe otro polinomio $P_{2}$ de grado $\\leq$ n / $P_{2}(x_{i}) = P(x_{i}) = y$ para i = 1,2,3,...,n\n",
        "\n",
        "Ahora, si hacemos un polinomio que resulte de restar $P_{2}$ a P tenemos que dicho polinomio,\n",
        "$(P_{2} - P)$ tiene grado $\\leq$ n, pero se anula(tiene raices) en n+1 puntos.\n",
        "\n",
        "Esto último contradice el Teorema fundamental del calculo, según el cual todo polinomio de grado n tiene exactamente n raíces. \n",
        "\n",
        "La única excepción que permitiría que $P_{2} - P$ tuviese n+1 raíces es si $P_{2} - P = 0$ siendo 0 el polinomio nulo. \n",
        "\n",
        "Si esto es así, entonces necesariamente  $P_{2} (x_{1})= P (x_{1})$, $P_{2} (x_{2})= P (x_{2})$, ... , $P_{2} (x_{n})= P (x_{n})$ y, por lo tanto $P_{2} = P$ y se concluye que el polinomio interpolador es único."
      ],
      "metadata": {
        "id": "cFH0pTOeasHr"
      }
    }
  ]
}