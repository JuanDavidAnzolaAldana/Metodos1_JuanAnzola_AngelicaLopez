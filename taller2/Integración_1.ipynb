{
  "nbformat": 4,
  "nbformat_minor": 0,
  "metadata": {
    "colab": {
      "provenance": []
    },
    "kernelspec": {
      "name": "python3",
      "display_name": "Python 3"
    },
    "language_info": {
      "name": "python"
    }
  },
  "cells": [
    {
      "cell_type": "markdown",
      "source": [
        "Integración: Punto 1\n",
        "\n",
        "Los pasos intermedios para la regla del trapecio simple son:\n",
        "\n",
        "1) Dada una función $f(x)$ definida en el intervalo $[a,b]$ obtenemos el polinomio interpolador\n",
        "\n",
        "$P(x) = \\frac{x - b}{a - b}* f(a) +  \\frac{x - a}{b - a} *f(b) $\n",
        "\n",
        "2) Aplicando la integral a esta aproximación obtenemos:\n",
        "\n",
        "$\\int_{a}^{b} p(x) dx = \\int_{a}^{b}  \\frac{x - b}{a - b}* f(a) +  \\frac{x - a}{b - a} *f(b) dx$\n",
        "\n",
        "Que es equivalente a\n",
        "\n",
        "$\\int_{a}^{b} \\frac{x - b}{a - b}* f(a) dx + \\int_{a}^{b} \\frac{x - a}{b - a} *f(b)dx$\n",
        "\n",
        "Para la primera integral obtenemos\n",
        "\n",
        "$ \\frac{1}{a - b}  f(a)  \\int_{a}^{b} x - b dx = $\n",
        "\n",
        "$\\frac{1}{a - b}  f(a)  [\\frac{x^2}{2} - bx]_{a}^{b} $\n",
        "\n",
        "Lo que da cómo resultado\n",
        "\n",
        "$ \\frac{1}{a - b}  f(a) (- \\frac{b^2}{2} + ab - \\frac{a^2}{2})$\n",
        "\n",
        "De forma similar, para la segunda integral obtenemos\n",
        "\n",
        "$ \\frac{1}{b - a}  f(b)  [\\frac{x^2}{2} - ax]_{a}^{b} $\n",
        "\n",
        "\n",
        "Que da cómo resultado\n",
        "\n",
        "$ \\frac{1}{b - a}  f(b) (- \\frac{a^2}{2} + ab - \\frac{b^2}{2})$\n",
        "\n",
        "Al sumar las dos integrales el resultado es\n",
        "\n",
        "$\\frac{1}{a - b}  f(a) (ab - \\frac{b^2}{2} - \\frac{a^2}{2}) + \\frac{1}{b - a}  f(b) (ab - \\frac{a^2}{2} - \\frac{b^2}{2})$\n",
        "\n",
        "$(\\frac{1}{a - b}  f(a) + \\frac{1}{b - a}  f(b))(ab - \\frac{b^2}{2} - \\frac{a^2}{2}) $\n",
        "\n",
        "$(\\frac{f(a) - f(b)}{a - b}) (ab - \\frac{b^2}{2} - \\frac{a^2}{2})$\n",
        "\n",
        "$(\\frac{f(a) - f(b)}{a - b}) (\\frac{2ab - b^2 - a^2}{2})$\n",
        "\n",
        "$(\\frac{f(a) - f(b)}{a - b}) (\\frac{(a - b)^2}{2})$\n",
        "\n",
        "$(\\frac{(a - b)}{2})(f(a) - f(b)$\n",
        "\n",
        "Obteniendo finalmente\n",
        "\n",
        "$(\\frac{b-a}{2})(f(a) + f(b)$"
      ],
      "metadata": {
        "id": "L0-ccD_ia-oG"
      }
    }
  ]
}