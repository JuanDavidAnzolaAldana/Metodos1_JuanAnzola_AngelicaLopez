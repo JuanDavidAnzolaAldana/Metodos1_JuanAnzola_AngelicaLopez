{
 "cells": [
  {
   "attachments": {},
   "cell_type": "markdown",
   "metadata": {},
   "source": [
    "# Punto a: Verificar la función de microestados:\n",
    "$$\n",
    "\\Omega(N,n_0)=\\frac{N!}{n_0!n_1!}\n",
    "$$\n",
    "Para argumentar esto, se modifica la definición de la función ligeramente sin alterar su significado de la siguiente manera.\n",
    "$$\n",
    "\\Omega(n_0,n_1)=\\frac{(n_0+n_1)!}{n_0!n_1!}\n",
    "$$\n",
    "Si se tiene un estado \n"
   ]
  }
 ],
 "metadata": {
  "language_info": {
   "name": "python"
  },
  "orig_nbformat": 4
 },
 "nbformat": 4,
 "nbformat_minor": 2
}
